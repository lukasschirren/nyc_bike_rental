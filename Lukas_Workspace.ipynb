{
 "cells": [
  {
   "cell_type": "code",
   "execution_count": 9,
   "metadata": {},
   "outputs": [
    {
     "name": "stdout",
     "output_type": "stream",
     "text": [
      "Accessible dataframes    Description                            # of columns  \n",
      "combined_data            Gives combined data from 2015-2019     15\n",
      "data_2020                Gives data for 2020                    15\n",
      "data_2024                Gives data for 2024                    13\n",
      "station_data             Existing stations in NYC from Lyft      6\n"
     ]
    }
   ],
   "source": [
    "%run data_preparation.ipynb"
   ]
  },
  {
   "cell_type": "code",
   "execution_count": null,
   "metadata": {},
   "outputs": [
    {
     "data": {
      "text/html": [
       "<div>\n",
       "<style scoped>\n",
       "    .dataframe tbody tr th:only-of-type {\n",
       "        vertical-align: middle;\n",
       "    }\n",
       "\n",
       "    .dataframe tbody tr th {\n",
       "        vertical-align: top;\n",
       "    }\n",
       "\n",
       "    .dataframe thead th {\n",
       "        text-align: right;\n",
       "    }\n",
       "</style>\n",
       "<table border=\"1\" class=\"dataframe\">\n",
       "  <thead>\n",
       "    <tr style=\"text-align: right;\">\n",
       "      <th></th>\n",
       "      <th>tripduration</th>\n",
       "      <th>starttime</th>\n",
       "      <th>stoptime</th>\n",
       "      <th>start station id</th>\n",
       "      <th>start station name</th>\n",
       "      <th>start station latitude</th>\n",
       "      <th>start station longitude</th>\n",
       "      <th>end station id</th>\n",
       "      <th>end station name</th>\n",
       "      <th>end station latitude</th>\n",
       "      <th>end station longitude</th>\n",
       "      <th>bikeid</th>\n",
       "      <th>usertype</th>\n",
       "      <th>birth year</th>\n",
       "      <th>gender</th>\n",
       "    </tr>\n",
       "  </thead>\n",
       "  <tbody>\n",
       "    <tr>\n",
       "      <th>0</th>\n",
       "      <td>146</td>\n",
       "      <td>2020-12-01 00:02:50.1450</td>\n",
       "      <td>2020-12-01 00:05:16.1940</td>\n",
       "      <td>3202</td>\n",
       "      <td>Newport PATH</td>\n",
       "      <td>40.727224</td>\n",
       "      <td>-74.033759</td>\n",
       "      <td>3199</td>\n",
       "      <td>Newport Pkwy</td>\n",
       "      <td>40.728745</td>\n",
       "      <td>-74.032108</td>\n",
       "      <td>42308</td>\n",
       "      <td>Subscriber</td>\n",
       "      <td>1989</td>\n",
       "      <td>2</td>\n",
       "    </tr>\n",
       "    <tr>\n",
       "      <th>1</th>\n",
       "      <td>572</td>\n",
       "      <td>2020-12-01 00:11:57.3910</td>\n",
       "      <td>2020-12-01 00:21:30.2510</td>\n",
       "      <td>3640</td>\n",
       "      <td>Journal Square</td>\n",
       "      <td>40.733670</td>\n",
       "      <td>-74.062500</td>\n",
       "      <td>3280</td>\n",
       "      <td>Astor Place</td>\n",
       "      <td>40.719282</td>\n",
       "      <td>-74.071262</td>\n",
       "      <td>18568</td>\n",
       "      <td>Subscriber</td>\n",
       "      <td>1997</td>\n",
       "      <td>2</td>\n",
       "    </tr>\n",
       "    <tr>\n",
       "      <th>2</th>\n",
       "      <td>387</td>\n",
       "      <td>2020-12-01 00:14:49.3610</td>\n",
       "      <td>2020-12-01 00:21:16.8730</td>\n",
       "      <td>3640</td>\n",
       "      <td>Journal Square</td>\n",
       "      <td>40.733670</td>\n",
       "      <td>-74.062500</td>\n",
       "      <td>3194</td>\n",
       "      <td>McGinley Square</td>\n",
       "      <td>40.725340</td>\n",
       "      <td>-74.067622</td>\n",
       "      <td>44543</td>\n",
       "      <td>Subscriber</td>\n",
       "      <td>1960</td>\n",
       "      <td>1</td>\n",
       "    </tr>\n",
       "  </tbody>\n",
       "</table>\n",
       "</div>"
      ],
      "text/plain": [
       "   tripduration                 starttime                  stoptime  \\\n",
       "0           146  2020-12-01 00:02:50.1450  2020-12-01 00:05:16.1940   \n",
       "1           572  2020-12-01 00:11:57.3910  2020-12-01 00:21:30.2510   \n",
       "2           387  2020-12-01 00:14:49.3610  2020-12-01 00:21:16.8730   \n",
       "\n",
       "   start station id start station name  start station latitude  \\\n",
       "0              3202       Newport PATH               40.727224   \n",
       "1              3640     Journal Square               40.733670   \n",
       "2              3640     Journal Square               40.733670   \n",
       "\n",
       "   start station longitude  end station id end station name  \\\n",
       "0               -74.033759            3199     Newport Pkwy   \n",
       "1               -74.062500            3280      Astor Place   \n",
       "2               -74.062500            3194  McGinley Square   \n",
       "\n",
       "   end station latitude  end station longitude  bikeid    usertype  \\\n",
       "0             40.728745             -74.032108   42308  Subscriber   \n",
       "1             40.719282             -74.071262   18568  Subscriber   \n",
       "2             40.725340             -74.067622   44543  Subscriber   \n",
       "\n",
       "   birth year  gender  \n",
       "0        1989       2  \n",
       "1        1997       2  \n",
       "2        1960       1  "
      ]
     },
     "metadata": {},
     "output_type": "display_data"
    }
   ],
   "source": [
    "current_directory = os.getcwd()\n",
    "file_name = \"data/2020\"\n",
    "folder_path = os.path.join(current_directory, file_name)\n",
    "\n",
    "data_2020 = combine_csv_files(folder_path)\n",
    "data_2020.iloc[:3]"
   ]
  },
  {
   "cell_type": "code",
   "execution_count": null,
   "metadata": {},
   "outputs": [],
   "source": [
    "data_2020['starttime'] = pd.to_datetime(data_2020['starttime'])\n",
    "data_2020['stoptime'] = pd.to_datetime(data_2020['stoptime'])\n",
    "\n",
    "# Reduce memory usage\n",
    "cols = ['start station name', 'end station name', 'bikeid', 'usertype', 'gender']\n",
    "for col in cols:\n",
    "    data_2020[col] = data_2020[col].astype('category')"
   ]
  },
  {
   "cell_type": "markdown",
   "metadata": {},
   "source": [
    "##### Ghost rides (taken from: https://towardsdatascience.com/interpolating-nyc-bike-share-data-to-discover-rebalancing-movements-6cf8a80eb902)"
   ]
  },
  {
   "cell_type": "code",
   "execution_count": null,
   "metadata": {},
   "outputs": [],
   "source": [
    "offset = pd.DataFrame({'starttime': pd.to_datetime('2010-09-01'),\\\n",
    "  'start station id':0,'stoptime': pd.to_datetime('2010-09-01'),\\\n",
    "  'end station id':0,'bikeid':0},index=[0])"
   ]
  },
  {
   "cell_type": "code",
   "execution_count": null,
   "metadata": {},
   "outputs": [],
   "source": [
    "dfbike1 = pd.concat([offset,data_2020]).reset_index(drop=True)\n",
    "dfbike2 = pd.concat([data_2020,offset]).reset_index(drop=True)\n",
    "\n",
    "dfbike=pd.concat ([dfbike1[['bikeid','stoptime','end station id']]\\\n",
    "            ,dfbike2[['bikeid','starttime','start station id']] ],\\\n",
    "             axis=1 )"
   ]
  },
  {
   "cell_type": "code",
   "execution_count": null,
   "metadata": {},
   "outputs": [],
   "source": [
    "dfbike.columns=['bikeid1','starttime','start station id',\\\n",
    "                'bikeid2','stoptime','end station id']\n",
    "dfrebal = dfbike[['starttime','start station id',\\\n",
    "                  'stoptime','end station id']].\\\n",
    "           loc[(dfbike.bikeid1==dfbike.bikeid2) & \\\n",
    "          (dfbike['start station id'] != dfbike['end station id']) ]\n",
    "dfrebal.reset_index(drop=True, inplace=True)"
   ]
  },
  {
   "cell_type": "code",
   "execution_count": null,
   "metadata": {},
   "outputs": [],
   "source": [
    "dfstations = combine_csv_files(folder_path)"
   ]
  },
  {
   "cell_type": "code",
   "execution_count": null,
   "metadata": {},
   "outputs": [],
   "source": [
    "dfstations = dfstations[['start station id','start station name']] \n",
    "dfstations.columns=['station id','station name']\n",
    "dfstations.drop_duplicates(inplace=True)\n",
    "dfstations.set_index('station id',drop=True, inplace=True)\n",
    "len(dfstations)"
   ]
  },
  {
   "cell_type": "code",
   "execution_count": null,
   "metadata": {},
   "outputs": [],
   "source": [
    "dfrebal = pd.merge(dfrebal, dfstations[['station name']],\\\n",
    "     how = 'left', left_on='start station id', right_on='station id')\n",
    "dfrebal = pd.merge(dfrebal, dfstations[['station name']],\\\n",
    "     how = 'left', left_on='end station id', right_on='station id')"
   ]
  },
  {
   "cell_type": "code",
   "execution_count": null,
   "metadata": {},
   "outputs": [],
   "source": [
    "dfrebal.rename(columns = \n",
    "        {'station name_x':'start station name',\\\n",
    "         'station name_y':'end station name'},\\\n",
    "          inplace = True)"
   ]
  },
  {
   "cell_type": "code",
   "execution_count": null,
   "metadata": {},
   "outputs": [
    {
     "data": {
      "text/html": [
       "<div>\n",
       "<style scoped>\n",
       "    .dataframe tbody tr th:only-of-type {\n",
       "        vertical-align: middle;\n",
       "    }\n",
       "\n",
       "    .dataframe tbody tr th {\n",
       "        vertical-align: top;\n",
       "    }\n",
       "\n",
       "    .dataframe thead th {\n",
       "        text-align: right;\n",
       "    }\n",
       "</style>\n",
       "<table border=\"1\" class=\"dataframe\">\n",
       "  <thead>\n",
       "    <tr style=\"text-align: right;\">\n",
       "      <th></th>\n",
       "      <th>starttime</th>\n",
       "      <th>start station id</th>\n",
       "      <th>stoptime</th>\n",
       "      <th>end station id</th>\n",
       "      <th>start station name</th>\n",
       "      <th>end station name</th>\n",
       "    </tr>\n",
       "  </thead>\n",
       "  <tbody>\n",
       "    <tr>\n",
       "      <th>0</th>\n",
       "      <td>2020-08-12 02:42:57.923</td>\n",
       "      <td>3205</td>\n",
       "      <td>2020-08-12 03:27:46.516</td>\n",
       "      <td>3279</td>\n",
       "      <td>JC Medical Center</td>\n",
       "      <td>Dixon Mills</td>\n",
       "    </tr>\n",
       "  </tbody>\n",
       "</table>\n",
       "</div>"
      ],
      "text/plain": [
       "                starttime  start station id                stoptime  \\\n",
       "0 2020-08-12 02:42:57.923              3205 2020-08-12 03:27:46.516   \n",
       "\n",
       "   end station id start station name end station name  \n",
       "0            3279  JC Medical Center      Dixon Mills  "
      ]
     },
     "metadata": {},
     "output_type": "display_data"
    }
   ],
   "source": [
    "dfrebal"
   ]
  },
  {
   "cell_type": "code",
   "execution_count": null,
   "metadata": {},
   "outputs": [],
   "source": [
    "rebalin = dfrebal['end station name'].value_counts()[:20]\n",
    "rebalout = dfrebal['start station name'].value_counts()[:20]"
   ]
  },
  {
   "cell_type": "code",
   "execution_count": null,
   "metadata": {},
   "outputs": [
    {
     "data": {
      "image/png": "[encoded data removed]",
      "text/plain": [
       "<Figure size 1000x800 with 1 Axes>"
      ]
     },
     "metadata": {},
     "output_type": "display_data"
    }
   ],
   "source": [
    "plt.figure(figsize=(10,8))\n",
    "plt.title('Citi Bike Rebalancing - 2020\\\n",
    " - Top 20 Stations bikes moved OUT'  ) \n",
    "plt.xlabel('Count of bikes moved') \n",
    "sns.barplot( x=rebalout.values, y=rebalout.index,  orient=\"h\" ) ;"
   ]
  },
  {
   "cell_type": "markdown",
   "metadata": {},
   "source": [
    "## Grouped stations"
   ]
  },
  {
   "cell_type": "code",
   "execution_count": null,
   "metadata": {},
   "outputs": [
    {
     "data": {
      "text/plain": [
       "start_station_name\n",
       "11 St & Washington St                2\n",
       "12 St & Sinatra Dr N                 1\n",
       "14 St Ferry - 14 St & Shipyard Ln    2\n",
       "2 St & Park Ave                      2\n",
       "4 St & Grand St                      1\n",
       "                                    ..\n",
       "Van Vorst Park                       2\n",
       "Warren St                            2\n",
       "Washington St                        1\n",
       "Willow Ave & 12 St                   1\n",
       "York St & Marin Blvd                 2\n",
       "Name: count, Length: 89, dtype: int64"
      ]
     },
     "metadata": {},
     "output_type": "display_data"
    }
   ],
   "source": [
    "# Group by start_station_id and started_at, and calculate count, start_lat, and start_lng for each group\n",
    "grouped_data = data_2024.groupby(['start_station_name', 'started_at']).agg({\n",
    "    'start_lat': 'first',\n",
    "    'start_lng': 'first',\n",
    "    'ride_id': 'count'  # Count the number of objects standing at each station at each time point\n",
    "}).reset_index()\n",
    "\n",
    "# Rename the 'ride_id' column to 'count' for clarity\n",
    "grouped_data.rename(columns={'ride_id': 'count'}, inplace=True)\n",
    "\n",
    "# Find the maximum count of objects standing at any given time for each station\n",
    "max_objects_count = grouped_data.groupby('start_station_name')['count'].max()\n",
    "max_objects_count"
   ]
  },
  {
   "cell_type": "markdown",
   "metadata": {},
   "source": [
    "# HTML File with stations (Lyft)"
   ]
  },
  {
   "cell_type": "code",
   "execution_count": 4,
   "metadata": {},
   "outputs": [],
   "source": [
    "# Sample data\n",
    "locations = station_data['name']\n",
    "latitudes = station_data['lat']\n",
    "longitudes = station_data['lon']\n",
    "sizes = station_data['capacity']\n",
    "#values = [20, 30, 25, 40]  # Values for the color scale\n",
    "\n",
    "# Initialize the map centered around the first location\n",
    "mymap = folium.Map()\n",
    "\n",
    "# Iterate over locations\n",
    "for lat, lon, size, location in zip(latitudes, longitudes, sizes, locations):\n",
    "    # Add circle marker with varying sizes\n",
    "    folium.CircleMarker(\n",
    "        location=[lat, lon],\n",
    "        radius=size / 10,  # Normalize size for better visualization\n",
    "        color='blue',\n",
    "        fill=True,\n",
    "        fill_color='blue',\n",
    "        fill_opacity=0.6,\n",
    "        popup=location\n",
    "    ).add_to(mymap)\n",
    "\n",
    "# Save the map to an HTML file\n",
    "mymap.save(\"nyc_bike_stations.html\")"
   ]
  }
 ],
 "metadata": {
  "kernelspec": {
   "display_name": "Python 3",
   "language": "python",
   "name": "python3"
  },
  "language_info": {
   "codemirror_mode": {
    "name": "ipython",
    "version": 3
   },
   "file_extension": ".py",
   "mimetype": "text/x-python",
   "name": "python",
   "nbconvert_exporter": "python",
   "pygments_lexer": "ipython3",
   "version": "3.11.8"
  }
 },
 "nbformat": 4,
 "nbformat_minor": 2
}
