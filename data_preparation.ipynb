{
 "cells": [
  {
   "cell_type": "code",
   "execution_count": 221,
   "metadata": {},
   "outputs": [],
   "source": [
    "import pandas as pd \n",
    "import numpy as np\n",
    "import matplotlib.pyplot as plt \n",
    "import seaborn as sns \n",
    "\n",
    "import cartopy.crs as ccrs\n",
    "import cartopy.feature as cfeature\n",
    "\n",
    "import folium\n",
    "from folium.plugins import FastMarkerCluster\n",
    "from folium.plugins import HeatMap\n",
    "\n",
    "import utm \n",
    "import os\n",
    "\n",
    "import requests\n",
    "import json\n",
    "\n",
    "import pyarrow"
   ]
  },
  {
   "cell_type": "code",
   "execution_count": 222,
   "metadata": {},
   "outputs": [],
   "source": [
    "%run functions.ipynb"
   ]
  },
  {
   "cell_type": "code",
   "execution_count": 223,
   "metadata": {},
   "outputs": [],
   "source": [
    "# def Generate_basemap():\n",
    "#     basemap = folium.Map(location=[40.730610 , -73.935242])\n",
    "#     return basemap"
   ]
  },
  {
   "cell_type": "markdown",
   "metadata": {},
   "source": [
    "# 1 Data Preparation"
   ]
  },
  {
   "cell_type": "markdown",
   "metadata": {},
   "source": [
    "## 1.1 List of Stations (Lat,Lon,Capacity)"
   ]
  },
  {
   "cell_type": "code",
   "execution_count": 224,
   "metadata": {},
   "outputs": [],
   "source": [
    "# URL of the JSON file\n",
    "url = 'https://gbfs.lyft.com/gbfs/2.3/bkn/en/station_information.json'\n",
    "\n",
    "# Send a GET request to the URL\n",
    "response = requests.get(url)\n",
    "\n",
    "# Check if the request was successful (status code 200)\n",
    "if response.status_code == 200:\n",
    "    # Parse the JSON response\n",
    "    json_data = response.json()\n",
    "    \n",
    "    # Now you can work with the JSON data)\n",
    "else:\n",
    "    print('Failed to retrieve data:', response.status_code)\n",
    "\n",
    "# Create a DataFrame from the 'stations' list\n",
    "station_data = pd.DataFrame(json_data['data']['stations'])\n",
    "\n",
    "# Select only the required columns\n",
    "station_data = station_data[['short_name', 'name', 'region_id', 'lat', 'lon', 'capacity']]"
   ]
  },
  {
   "cell_type": "markdown",
   "metadata": {},
   "source": [
    "### 1.1.1 Station Visualisation"
   ]
  },
  {
   "cell_type": "code",
   "execution_count": 225,
   "metadata": {},
   "outputs": [],
   "source": [
    "# basemap = Generate_basemap()\n",
    "# FastMarkerCluster(station_data[['lat', 'lon' , 'capacity']]).add_to(basemap)\n",
    "\n",
    "# HeatMap(station_data[['lat', 'lon' , 'capacity']]).add_to(basemap)\n",
    "# # basemap"
   ]
  },
  {
   "cell_type": "markdown",
   "metadata": {},
   "source": [
    "## 1.2 Ride Data"
   ]
  },
  {
   "cell_type": "markdown",
   "metadata": {},
   "source": [
    "### 1.2.1 Ride Data (2015-2021)"
   ]
  },
  {
   "cell_type": "code",
   "execution_count": 226,
   "metadata": {},
   "outputs": [],
   "source": [
    "# Open all files / computing intensive\n",
    "current_directory = os.getcwd()\n",
    "file_name = \"data\"\n",
    "base_folder_path = os.path.join(current_directory, file_name)\n",
    "start_year = 2015\n",
    "end_year = 2019\n",
    "combined_data = combine_csv_files_in_years(base_folder_path,start_year,end_year)"
   ]
  },
  {
   "cell_type": "code",
   "execution_count": 210,
   "metadata": {},
   "outputs": [
    {
     "data": {
      "text/plain": [
       "Index(['Trip Duration', 'Start Time', 'Stop Time', 'Start Station ID',\n",
       "       'Start Station Name', 'Start Station Latitude',\n",
       "       'Start Station Longitude', 'End Station ID', 'End Station Name',\n",
       "       'End Station Latitude', 'End Station Longitude', 'Bike ID', 'User Type',\n",
       "       'Birth Year', 'Gender', 'tripduration', 'starttime', 'stoptime',\n",
       "       'start station id', 'start station name', 'start station latitude',\n",
       "       'start station longitude', 'end station id', 'end station name',\n",
       "       'end station latitude', 'end station longitude', 'bikeid', 'usertype',\n",
       "       'birth year', 'gender'],\n",
       "      dtype='object')"
      ]
     },
     "execution_count": 210,
     "metadata": {},
     "output_type": "execute_result"
    }
   ],
   "source": [
    "# combined_data.columns"
   ]
  },
  {
   "cell_type": "code",
   "execution_count": 220,
   "metadata": {},
   "outputs": [],
   "source": [
    "# From 2015 - 2021, 15 columns\n",
    "# From 2022 - 2024, 13 columns\n",
    "# Issues with 2017\n",
    "# Issues with 2021\n",
    "\n",
    "# current_directory = os.getcwd()\n",
    "# file_name = \"data//2016\"\n",
    "# folder_path = os.path.join(current_directory, file_name)\n",
    "\n",
    "# data = combine_csv_files(folder_path)\n",
    "# data.columns"
   ]
  },
  {
   "cell_type": "code",
   "execution_count": 219,
   "metadata": {},
   "outputs": [],
   "source": [
    "# combined_data['starttime'] = pd.to_datetime(combined_data['starttime'])\n",
    "# combined_data['stoptime'] = pd.to_datetime(combined_data['stoptime'])\n",
    "\n",
    "# # Reduce memory usage\n",
    "# cols = ['start station name', 'end station name', 'bikeid', 'usertype', 'gender']\n",
    "# for col in cols:\n",
    "#     combined_data[col] = combined_data[col].astype('category')"
   ]
  },
  {
   "cell_type": "markdown",
   "metadata": {},
   "source": [
    "### 1.2.2 Ride Data (2020)"
   ]
  },
  {
   "cell_type": "code",
   "execution_count": 217,
   "metadata": {},
   "outputs": [
    {
     "data": {
      "text/html": [
       "<div>\n",
       "<style scoped>\n",
       "    .dataframe tbody tr th:only-of-type {\n",
       "        vertical-align: middle;\n",
       "    }\n",
       "\n",
       "    .dataframe tbody tr th {\n",
       "        vertical-align: top;\n",
       "    }\n",
       "\n",
       "    .dataframe thead th {\n",
       "        text-align: right;\n",
       "    }\n",
       "</style>\n",
       "<table border=\"1\" class=\"dataframe\">\n",
       "  <thead>\n",
       "    <tr style=\"text-align: right;\">\n",
       "      <th></th>\n",
       "      <th>tripduration</th>\n",
       "      <th>starttime</th>\n",
       "      <th>stoptime</th>\n",
       "      <th>start station id</th>\n",
       "      <th>start station name</th>\n",
       "      <th>start station latitude</th>\n",
       "      <th>start station longitude</th>\n",
       "      <th>end station id</th>\n",
       "      <th>end station name</th>\n",
       "      <th>end station latitude</th>\n",
       "      <th>end station longitude</th>\n",
       "      <th>bikeid</th>\n",
       "      <th>usertype</th>\n",
       "      <th>birth year</th>\n",
       "      <th>gender</th>\n",
       "    </tr>\n",
       "  </thead>\n",
       "  <tbody>\n",
       "    <tr>\n",
       "      <th>0</th>\n",
       "      <td>226</td>\n",
       "      <td>2020-01-01 00:04:50.1920</td>\n",
       "      <td>2020-01-01 00:08:37.0370</td>\n",
       "      <td>3186</td>\n",
       "      <td>Grove St PATH</td>\n",
       "      <td>40.719586</td>\n",
       "      <td>-74.043117</td>\n",
       "      <td>3211</td>\n",
       "      <td>Newark Ave</td>\n",
       "      <td>40.721525</td>\n",
       "      <td>-74.046305</td>\n",
       "      <td>29444</td>\n",
       "      <td>Subscriber</td>\n",
       "      <td>1984</td>\n",
       "      <td>2</td>\n",
       "    </tr>\n",
       "    <tr>\n",
       "      <th>1</th>\n",
       "      <td>377</td>\n",
       "      <td>2020-01-01 00:16:01.6700</td>\n",
       "      <td>2020-01-01 00:22:19.0800</td>\n",
       "      <td>3186</td>\n",
       "      <td>Grove St PATH</td>\n",
       "      <td>40.719586</td>\n",
       "      <td>-74.043117</td>\n",
       "      <td>3269</td>\n",
       "      <td>Brunswick &amp; 6th</td>\n",
       "      <td>40.726012</td>\n",
       "      <td>-74.050389</td>\n",
       "      <td>26305</td>\n",
       "      <td>Subscriber</td>\n",
       "      <td>1989</td>\n",
       "      <td>2</td>\n",
       "    </tr>\n",
       "    <tr>\n",
       "      <th>2</th>\n",
       "      <td>288</td>\n",
       "      <td>2020-01-01 00:17:33.8770</td>\n",
       "      <td>2020-01-01 00:22:22.4420</td>\n",
       "      <td>3186</td>\n",
       "      <td>Grove St PATH</td>\n",
       "      <td>40.719586</td>\n",
       "      <td>-74.043117</td>\n",
       "      <td>3269</td>\n",
       "      <td>Brunswick &amp; 6th</td>\n",
       "      <td>40.726012</td>\n",
       "      <td>-74.050389</td>\n",
       "      <td>29268</td>\n",
       "      <td>Customer</td>\n",
       "      <td>1989</td>\n",
       "      <td>1</td>\n",
       "    </tr>\n",
       "  </tbody>\n",
       "</table>\n",
       "</div>"
      ],
      "text/plain": [
       "   tripduration                 starttime                  stoptime  \\\n",
       "0           226  2020-01-01 00:04:50.1920  2020-01-01 00:08:37.0370   \n",
       "1           377  2020-01-01 00:16:01.6700  2020-01-01 00:22:19.0800   \n",
       "2           288  2020-01-01 00:17:33.8770  2020-01-01 00:22:22.4420   \n",
       "\n",
       "   start station id start station name  start station latitude  \\\n",
       "0              3186      Grove St PATH               40.719586   \n",
       "1              3186      Grove St PATH               40.719586   \n",
       "2              3186      Grove St PATH               40.719586   \n",
       "\n",
       "   start station longitude  end station id end station name  \\\n",
       "0               -74.043117            3211       Newark Ave   \n",
       "1               -74.043117            3269  Brunswick & 6th   \n",
       "2               -74.043117            3269  Brunswick & 6th   \n",
       "\n",
       "   end station latitude  end station longitude  bikeid    usertype  \\\n",
       "0             40.721525             -74.046305   29444  Subscriber   \n",
       "1             40.726012             -74.050389   26305  Subscriber   \n",
       "2             40.726012             -74.050389   29268    Customer   \n",
       "\n",
       "   birth year  gender  \n",
       "0        1984       2  \n",
       "1        1989       2  \n",
       "2        1989       1  "
      ]
     },
     "execution_count": 217,
     "metadata": {},
     "output_type": "execute_result"
    }
   ],
   "source": [
    "current_directory = os.getcwd()\n",
    "file_name = \"data/2020\"\n",
    "folder_path = os.path.join(current_directory, file_name)\n",
    "\n",
    "data_2020 = combine_csv_files(folder_path)\n",
    "data_2020.iloc[:3]"
   ]
  },
  {
   "cell_type": "code",
   "execution_count": 218,
   "metadata": {},
   "outputs": [],
   "source": [
    "data_2020['starttime'] = pd.to_datetime(data_2020['starttime'])\n",
    "data_2020['stoptime'] = pd.to_datetime(data_2020['stoptime'])\n",
    "\n",
    "# Reduce memory usage\n",
    "cols = ['start station name', 'end station name', 'bikeid', 'usertype', 'gender']\n",
    "for col in cols:\n",
    "    data_2020[col] = data_2020[col].astype('category')"
   ]
  },
  {
   "cell_type": "markdown",
   "metadata": {},
   "source": [
    "### 1.2.3 Ride Data (2024)"
   ]
  },
  {
   "cell_type": "code",
   "execution_count": 203,
   "metadata": {},
   "outputs": [],
   "source": [
    "# Open only 2024\n",
    "\n",
    "current_directory = os.getcwd()\n",
    "file_name = \"data\\\\2024\"\n",
    "folder_path = os.path.join(current_directory, file_name)\n",
    "\n",
    "data_2024 = combine_csv_files(folder_path)\n",
    "\n",
    "# data_2024['start_lat'] = pd.to_numeric(data_2024[\"start_lat\"])\n",
    "# data_2024['end_lat'] = pd.to_numeric(data_2024[\"end_lat\"])\n",
    "# data_2024['start_lng'] = pd.to_numeric(data_2024[\"start_lng\"])\n",
    "# data_2024['end_lng'] = pd.to_numeric(data_2024[\"end_lng\"])"
   ]
  },
  {
   "cell_type": "code",
   "execution_count": 204,
   "metadata": {},
   "outputs": [],
   "source": [
    "data_2024['started_at'] = pd.to_datetime(data_2024['started_at'])\n",
    "data_2024['ended_at'] = pd.to_datetime(data_2024['ended_at'])\n",
    "\n",
    "cols = ['start_station_name', 'end_station_name', 'start_station_id', 'end_station_id', 'ride_id', 'rideable_type', 'member_casual']\n",
    "for col in cols:\n",
    "    data_2024[col] = data_2024[col].astype('category')"
   ]
  },
  {
   "cell_type": "code",
   "execution_count": 205,
   "metadata": {},
   "outputs": [
    {
     "name": "stdout",
     "output_type": "stream",
     "text": [
      "Accessible dataframes    Description                            # of columns  \n",
      "combined_data            Gives combined data from 2015-2019     15\n",
      "data_2024                Gives data for 2024                    13\n",
      "station_data             Existing stations in NYC from Lyft      6\n"
     ]
    }
   ],
   "source": [
    "print(\"Accessible dataframes    Description                            # of columns  \")\n",
    "print(\"combined_data            Gives combined data from 2015-2019     15\")\n",
    "print(\"data_2020                Gives data for 2020                    15\")\n",
    "print(\"data_2024                Gives data for 2024                    13\")\n",
    "print(\"station_data             Existing stations in NYC from Lyft      6\")"
   ]
  }
 ],
 "metadata": {
  "kernelspec": {
   "display_name": "Python 3",
   "language": "python",
   "name": "python3"
  },
  "language_info": {
   "codemirror_mode": {
    "name": "ipython",
    "version": 3
   },
   "file_extension": ".py",
   "mimetype": "text/x-python",
   "name": "python",
   "nbconvert_exporter": "python",
   "pygments_lexer": "ipython3",
   "version": "3.10.13"
  }
 },
 "nbformat": 4,
 "nbformat_minor": 2
}
